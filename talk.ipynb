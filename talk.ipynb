{
 "cells": [
  {
   "cell_type": "markdown",
   "metadata": {},
   "source": [
    "```{=latex}\n",
    "\\usepackage{hyperref}\n",
    "\\usepackage{graphicx}\n",
    "\\usepackage{listings}\n",
    "\\usepackage{textcomp}\n",
    "\\usepackage{fancyvrb}\n",
    "\n",
    "\\newcommand{\\passthrough}[1]{\\lstset{mathescape=false}#1\\lstset{mathescape=true}}\n",
    "\\newcommand{\\tightlist}{}\n",
    "```"
   ]
  },
  {
   "cell_type": "markdown",
   "metadata": {},
   "source": [
    "```{=latex}\n",
    "\\title{pyproject.toml, packaging, and you}\n",
    "\\author{Moshe Zadka -- https://cobordism.com}\n",
    "\\date{}\n",
    "\n",
    "\\begin{document}\n",
    "\\begin{titlepage}\n",
    "\\maketitle\n",
    "\\end{titlepage}\n",
    "\n",
    "\\frame{\\titlepage}\n",
    "```"
   ]
  },
  {
   "cell_type": "markdown",
   "metadata": {
    "tags": []
   },
   "source": [
    "```{=latex}\n",
    "\\begin{frame}\n",
    "\\frametitle{Acknowledgement of Country}\n",
    "\n",
    "Belmont (in San Francisco Bay Area Peninsula)\n",
    "\n",
    "Ancestral homeland of the Ramaytush Ohlone people\n",
    "\n",
    "\\end{frame}\n",
    "```"
   ]
  },
  {
   "cell_type": "markdown",
   "metadata": {
    "tags": []
   },
   "source": [
    "I live in Belmont,\n",
    "in the San Francisco Bay Area Peninsula.\n",
    "I wish to acknowledge it as the\n",
    "ancestral homeland\n",
    "of the\n",
    "Ramaytush Ohlone people."
   ]
  },
  {
   "cell_type": "markdown",
   "metadata": {},
   "source": [
    "## Basics\n",
    "\n",
    "### What is TOML?"
   ]
  },
  {
   "cell_type": "markdown",
   "metadata": {
    "tags": []
   },
   "source": [
    "```{=latex}\n",
    "\\begin{frame}\n",
    "\\frametitle{What is TOML?}\n",
    "\n",
    "Semantics: \\pause JSON + date + float vs. integer \\pause\n",
    "\n",
    "Syntax: \\pause more editable than JSON, \\pause easier to parse than YAML\n",
    "\n",
    "\\end{frame}\n",
    "```"
   ]
  },
  {
   "cell_type": "markdown",
   "metadata": {},
   "source": [
    "TOML is a format for structured data.\n",
    "As far as\n",
    "*semantics*\n",
    "go,\n",
    "TOML can express what JSON can and a little bit more.\n",
    "\n",
    "TOML has a native\n",
    "\"date\"\n",
    "type.\n",
    "It can also express which numbers are supposed to be\n",
    "integers and which are supposed to be floats.\n",
    "\n",
    "TOML is designed to be more editable than JSON.\n",
    "It allows for comments\n",
    "and trailing commas,\n",
    "for example.\n",
    "\n",
    "It is also designed to be easier to parse than YAML.\n",
    "The specification is shorter,\n",
    "and tries to be fairly clear."
   ]
  },
  {
   "cell_type": "markdown",
   "metadata": {
    "tags": []
   },
   "source": [
    "```{=latex}\n",
    "\\begin{frame}[fragile]\n",
    "\\frametitle{TOML example}\n",
    "```"
   ]
  },
  {
   "cell_type": "code",
   "execution_count": 1,
   "metadata": {},
   "outputs": [],
   "source": [
    "toml_stuff = \"\"\"\\\n",
    "[project] # Table -> Dictionary\n",
    "name = \"orbipatch\"\n",
    "authors = [ # Array -> List\n",
    "# Key/Value -> Dictionary\n",
    "{ name = \"MZ\", email = \"mz@devskillup.com\" }\n",
    "]\n",
    "\"\"\""
   ]
  },
  {
   "cell_type": "markdown",
   "metadata": {
    "tags": []
   },
   "source": [
    "```{=latex}\n",
    "\\end{frame}\n",
    "```"
   ]
  },
  {
   "cell_type": "markdown",
   "metadata": {},
   "source": [
    "A simple example of TOML,\n",
    "sampled from\n",
    "`pyproject.toml`,\n",
    "can help illustrate some of these.\n",
    "Note that we can have\n",
    "`#`-style\n",
    "comments.\n",
    "\n",
    "Tables,\n",
    "as well as\n",
    "Key/Value\n",
    "syntax,\n",
    "parse into dictionaries.\n",
    "There are also arrays,\n",
    "which can include arbitrary objects."
   ]
  },
  {
   "cell_type": "markdown",
   "metadata": {
    "tags": []
   },
   "source": [
    "```{=latex}\n",
    "\\begin{frame}[fragile]\n",
    "\\frametitle{TOML example}\n",
    "```"
   ]
  },
  {
   "cell_type": "code",
   "execution_count": 35,
   "metadata": {},
   "outputs": [
    {
     "name": "stdout",
     "output_type": "stream",
     "text": [
      "{\n",
      "    \"project\": {\n",
      "        \"name\": \"orbipatch\",\n",
      "        \"authors\": [\n",
      "            {\n",
      "                \"name\": \"MZ\",\n",
      "                \"email\": \"mz@devskillup.com\"\n",
      "            }\n",
      "        ]\n",
      "    }\n",
      "}\n"
     ]
    }
   ],
   "source": [
    "import tomli # tomllib in Python 3.11+\n",
    "import json\n",
    "print(json.dumps(\n",
    "    tomli.loads(toml_stuff),\n",
    "    indent=4,\n",
    "))"
   ]
  },
  {
   "cell_type": "markdown",
   "metadata": {
    "tags": []
   },
   "source": [
    "```{=latex}\n",
    "\\end{frame}\n",
    "```"
   ]
  },
  {
   "cell_type": "markdown",
   "metadata": {},
   "source": [
    "The\n",
    "`tomli`\n",
    "library\n",
    "is similar to the built-in\n",
    "`tomllib`\n",
    "in Python 3.11 and above.\n",
    "Parsing the data above,\n",
    "and redumping it into JSON,\n",
    "helps show the structure."
   ]
  },
  {
   "cell_type": "markdown",
   "metadata": {},
   "source": [
    "### What is pyproject.toml?"
   ]
  },
  {
   "cell_type": "markdown",
   "metadata": {
    "tags": []
   },
   "source": [
    "```{=latex}\n",
    "\\begin{frame}\n",
    "\\frametitle{pyproject.toml}\n",
    "\n",
    "Originally: Configure build system, \\pause\n",
    "experimenting with alternatives, \\pause\n",
    "setuptools plugins, \\pause\n",
    "etc. \\pause\n",
    "\n",
    "Now: \\pause\n",
    "Still that but also: \\pause\n",
    "build-system agnostic metadata, \\pause\n",
    "configure ecosystem tools.\n",
    "\n",
    "\\end{frame}\n",
    "```"
   ]
  },
  {
   "cell_type": "markdown",
   "metadata": {},
   "source": [
    "The\n",
    "`pyproject.toml`\n",
    "file was originally intended to configure the build system.\n",
    "This had to be outside of\n",
    "`setup.py`,\n",
    "in order to install the right version of\n",
    "`setuptools`\n",
    "and\n",
    "any plugins it depended on.\n",
    "\n",
    "This is also important to allow other build systems.\n",
    "Allowing alternative build systems,\n",
    "without the backwards-compatibility needs of setuptools,\n",
    "allows faster experimentation.\n",
    "\n",
    "However,\n",
    "because of\n",
    "TOML's\n",
    "flexibility,\n",
    "it was quickly adopted into other tools.\n",
    "Many tools used the fact that\n",
    "`tool.<toolname>.<section>`\n",
    "would all be collected into\n",
    "`toml_data[\"tool\"][\"toolname\"]`.\n",
    "\n",
    "Finally,\n",
    "some of the fields were standardized.\n",
    "This led to the\n",
    "`project`\n",
    "section,\n",
    "which is a standard way to express standard metadata about Python packages."
   ]
  },
  {
   "cell_type": "markdown",
   "metadata": {},
   "source": [
    "### Parsing pyproject.toml"
   ]
  },
  {
   "cell_type": "code",
   "execution_count": 7,
   "metadata": {},
   "outputs": [],
   "source": [
    "minimal_pyproject = \"\"\"\\\n",
    "[build-system]\n",
    "requires = [\"setuptool\"]\n",
    "build-backend = \"setuptools.build_meta\"\n",
    "\n",
    "[project]\n",
    "name = \"orbipatch\"\n",
    "version = \"2022.3.6.2\"\n",
    "description = \"silly project named after a niche math thing\"\n",
    "readme = \"README.rst\"\n",
    "authors = [{name = \"MZ\", email = \"mz@devskillup.com\"}]\n",
    "\"\"\""
   ]
  },
  {
   "cell_type": "markdown",
   "metadata": {},
   "source": [
    "This is not technically a\n",
    "\"minimal\"\n",
    "pyproject,\n",
    "but it is fairly minimalistic.\n",
    "The\n",
    "`build-system`\n",
    "configures the how to build the package.\n",
    "\n",
    "The\n",
    "`requires`\n",
    "configures\n",
    "the build-time\n",
    "*dependencies*.\n",
    "The\n",
    "*backend*\n",
    "is the path to a module\n",
    "which has some functions,\n",
    "most importantly\n",
    "`build_wheel`.\n",
    "\n",
    "The parameters in\n",
    "`project`\n",
    "correspond to some often that\n",
    "used to be set in\n",
    "`setup.py`.\n",
    "More importantly,\n",
    "these are fields which will end up\n",
    "being in a wheel."
   ]
  },
  {
   "cell_type": "markdown",
   "metadata": {
    "tags": []
   },
   "source": [
    "```{=latex}\n",
    "\\begin{frame}[fragile]\n",
    "\\frametitle{Parsing pyproject.toml}\n",
    "```"
   ]
  },
  {
   "cell_type": "code",
   "execution_count": 11,
   "metadata": {},
   "outputs": [
    {
     "name": "stdout",
     "output_type": "stream",
     "text": [
      "Build system requires: ['setuptool']\n"
     ]
    }
   ],
   "source": [
    "parsed = tomli.loads(minimal_pyproject)\n",
    "print(\n",
    "    \"Build system requires:\",\n",
    "    parsed[\"build-system\"].pop(\"requires\")\n",
    ")"
   ]
  },
  {
   "cell_type": "markdown",
   "metadata": {
    "tags": []
   },
   "source": [
    "```{=latex}\n",
    "\\end{frame}\n",
    "```"
   ]
  },
  {
   "cell_type": "markdown",
   "metadata": {},
   "source": [
    "When parsing the TOML,\n",
    "sections as well as fields within sections\n",
    "become dictionaries.\n",
    "The result is the typical JSON-like dict-within-dict nested structure.\n",
    "\n",
    "The\n",
    "`build-system`\n",
    "section has two important keys.\n",
    "The first one is the\n",
    "`requires`.\n",
    "More serious\n",
    "`requires`\n",
    "will sometimes pin the version."
   ]
  },
  {
   "cell_type": "markdown",
   "metadata": {
    "tags": []
   },
   "source": [
    "```{=latex}\n",
    "\\begin{frame}[fragile]\n",
    "\\frametitle{Parsing pyproject.toml}\n",
    "```"
   ]
  },
  {
   "cell_type": "code",
   "execution_count": 12,
   "metadata": {},
   "outputs": [
    {
     "name": "stdout",
     "output_type": "stream",
     "text": [
      "Build backend setuptools.build_meta\n"
     ]
    }
   ],
   "source": [
    "print(\n",
    "    \"Build backend\",\n",
    "    parsed[\"build-system\"].pop(\"build-backend\")\n",
    ")"
   ]
  },
  {
   "cell_type": "markdown",
   "metadata": {
    "tags": []
   },
   "source": [
    "```{=latex}\n",
    "\\end{frame}\n",
    "```"
   ]
  },
  {
   "cell_type": "markdown",
   "metadata": {},
   "source": [
    "The other field is the\n",
    "`build-system`.\n",
    "This is a module,\n",
    "typically installed by\n",
    "one of the modules in\n",
    "`requires`,\n",
    "which knows how to build wheels.\n",
    "\n",
    "The default backend,\n",
    "here used explicitly,\n",
    "it the\n",
    "`setuptools`\n",
    "one.\n",
    "The\n",
    "`setuptools`\n",
    "package exposes its\n",
    "build-system-compatible module\n",
    "as\n",
    "`build_meta`."
   ]
  },
  {
   "cell_type": "markdown",
   "metadata": {
    "tags": []
   },
   "source": [
    "```{=latex}\n",
    "\\begin{frame}[fragile]\n",
    "\\frametitle{Parsing pyproject.toml}\n",
    "```"
   ]
  },
  {
   "cell_type": "code",
   "execution_count": 13,
   "metadata": {},
   "outputs": [
    {
     "name": "stdout",
     "output_type": "stream",
     "text": [
      "Project authors:\n",
      " [{'name': 'MZ', 'email': 'mz@devskillup.com'}]\n"
     ]
    }
   ],
   "source": [
    "print(\n",
    "    \"Project authors:\\n\",\n",
    "    parsed[\"project\"].pop(\"authors\")\n",
    ")"
   ]
  },
  {
   "cell_type": "markdown",
   "metadata": {
    "tags": []
   },
   "source": [
    "```{=latex}\n",
    "\\end{frame}\n",
    "```"
   ]
  },
  {
   "cell_type": "markdown",
   "metadata": {},
   "source": [
    "The\n",
    "`project`\n",
    "section of the\n",
    "`pyproject.toml`\n",
    "file has several interesting metadata fields.\n",
    "Of special interest is the\n",
    "`authors`\n",
    "one,\n",
    "particularly because of its complexity:\n",
    "it is an\n",
    "*array*\n",
    "of\n",
    "*key-value* pairs.\n",
    "\n",
    "Accessing the name of the first author\n",
    "is a good example of how deep the nesting\n",
    "here is.\n",
    "It would be\n",
    "`parsed[\"project\"][\"authors\"][0][\"name\"]`,\n",
    "for a total of four nesting levels."
   ]
  },
  {
   "cell_type": "markdown",
   "metadata": {
    "tags": []
   },
   "source": [
    "```{=latex}\n",
    "\\begin{frame}[fragile]\n",
    "\\frametitle{Parsing pyproject.toml}\n",
    "```"
   ]
  },
  {
   "cell_type": "code",
   "execution_count": 14,
   "metadata": {},
   "outputs": [
    {
     "name": "stdout",
     "output_type": "stream",
     "text": [
      "Project description:\n",
      " silly project named after a niche math thing\n"
     ]
    }
   ],
   "source": [
    "print(\n",
    "    \"Project description:\\n\",\n",
    "    parsed[\"project\"].pop(\"description\"),\n",
    ")"
   ]
  },
  {
   "cell_type": "markdown",
   "metadata": {
    "tags": []
   },
   "source": [
    "```{=latex}\n",
    "\\end{frame}\n",
    "```"
   ]
  },
  {
   "cell_type": "markdown",
   "metadata": {},
   "source": [
    "The description is interesting in that even when it is a short description,\n",
    "it is often objectively long.\n",
    "Using a regular string is fine for it,\n",
    "but TOML does support triple quoted strings if the need arises."
   ]
  },
  {
   "cell_type": "markdown",
   "metadata": {
    "tags": []
   },
   "source": [
    "```{=latex}\n",
    "\\begin{frame}[fragile]\n",
    "\\frametitle{Parsing pyproject.toml}\n",
    "```"
   ]
  },
  {
   "cell_type": "code",
   "execution_count": 17,
   "metadata": {
    "tags": []
   },
   "outputs": [
    {
     "name": "stdout",
     "output_type": "stream",
     "text": [
      "Project:\n",
      " {\n",
      "  \"name\": \"orbipatch\",\n",
      "  \"version\": \"2022.3.6.2\",\n",
      "  \"readme\": \"README.rst\"\n",
      "}\n"
     ]
    }
   ],
   "source": [
    "print(\n",
    "    \"Project:\\n\",\n",
    "    json.dumps(parsed.pop(\"project\"), indent=2),\n",
    ")"
   ]
  },
  {
   "cell_type": "markdown",
   "metadata": {
    "tags": []
   },
   "source": [
    "```{=latex}\n",
    "\\end{frame}\n",
    "```"
   ]
  },
  {
   "cell_type": "markdown",
   "metadata": {},
   "source": [
    "The other fields in the project section are some of the most important ones. In particular, name and version make it not only to the contents of the wheel, but also to its *name*.\n",
    "\n",
    "In theory,\n",
    "`pyproject.toml`\n",
    "allows inlining the README,\n",
    "or long description.\n",
    "There are good reasons to avoid this\n",
    "\"saving\".\n",
    "\n",
    "First,\n",
    "this makes it hard to read natively.\n",
    "Even worse,\n",
    "this won't render on your favorite\n",
    "code-collaboration platform at *all*.\n",
    "\n",
    "Luckily,\n",
    "you can include it by reference.\n",
    "This allows unifying the project's README\n",
    "on\n",
    "GitHub or similar\n",
    "with the description.\n"
   ]
  },
  {
   "cell_type": "markdown",
   "metadata": {},
   "source": [
    "### Build system"
   ]
  },
  {
   "cell_type": "markdown",
   "metadata": {
    "tags": []
   },
   "source": [
    "```{=latex}\n",
    "\\begin{frame}\n",
    "\\frametitle{build system}\n",
    "\n",
    "requires: \\pause\n",
    "Dependencies \\pause\n",
    "\n",
    "backend: \\pause\n",
    "Module that has the right methods\n",
    "\n",
    "\\end{frame}\n",
    "```"
   ]
  },
  {
   "cell_type": "markdown",
   "metadata": {},
   "source": [
    "The\n",
    "`build-system`\n",
    "has the build\n",
    "*dependencies*\n",
    "and the\n",
    "*backend*.\n",
    "Together,\n",
    "they determine how to build the package\n",
    "into a wheel."
   ]
  },
  {
   "cell_type": "markdown",
   "metadata": {},
   "source": [
    "### Project"
   ]
  },
  {
   "cell_type": "markdown",
   "metadata": {
    "tags": []
   },
   "source": [
    "```{=latex}\n",
    "\\begin{frame}\n",
    "\\frametitle{project}\n",
    "\n",
    "Must: \\pause\n",
    "name, version \\pause\n",
    "\n",
    "Recommended: \\pause\n",
    "Short description (usually inline), \\pause\n",
    "Long description (usually from file), \\pause\n",
    "License (usually from file, can be inlined), \\pause\n",
    "URLs (especially \"Homepage\")\n",
    "\n",
    "\\end{frame}\n",
    "```"
   ]
  },
  {
   "cell_type": "markdown",
   "metadata": {},
   "source": [
    "The project section is interesting.\n",
    "It is not\n",
    "*required*\n",
    "to be there.\n",
    "\n",
    "If it\n",
    "*does*\n",
    "exist,\n",
    "it must have the name and version fields.\n",
    "Other fields are highly recommended.\n",
    "\n",
    "Some of the other fields will be displayed\n",
    "directly in PyPI.\n",
    "For example,\n",
    "this is the case with the URLs\n",
    "and the description.\n",
    "\n",
    "One interesting file to inline is the\n",
    "license.\n",
    "This reduces by one the number of files\n",
    "at your top level."
   ]
  },
  {
   "cell_type": "markdown",
   "metadata": {},
   "source": [
    "## Extensibility\n",
    "\n",
    "### The tools section"
   ]
  },
  {
   "cell_type": "code",
   "execution_count": 4,
   "metadata": {},
   "outputs": [],
   "source": [
    "minimal_pyproject = \"\"\"\\\n",
    "[build-system]\n",
    "requires = [\"setuptool\"]\n",
    "build-backend = \"setuptools.build_meta\"\n",
    "\n",
    "[project]\n",
    "name = \"orbipatch\"\n",
    "version = \"2022.3.6.2\"\n",
    "description = \"silly project named after a niche math thing\"\n",
    "readme = \"README.rst\"\n",
    "authors = [{name = \"MZ\", email = \"mz@devskillup.com\"}]\n",
    "\n",
    "[tool.black]\n",
    "include = '\\.pyi'\n",
    "\"\"\"\n",
    "parsed = tomli.loads(minimal_pyproject)"
   ]
  },
  {
   "cell_type": "markdown",
   "metadata": {
    "tags": []
   },
   "source": [
    "```{=latex}\n",
    "\\begin{frame}[fragile]\n",
    "\\frametitle{The tools section}\n",
    "\n",
    "Under \"tool.NAME\"\n",
    "```"
   ]
  },
  {
   "cell_type": "code",
   "execution_count": 6,
   "metadata": {},
   "outputs": [
    {
     "name": "stdout",
     "output_type": "stream",
     "text": [
      "Black configuration: {'include': '\\\\.pyi'}\n"
     ]
    }
   ],
   "source": [
    "# [tool.black]\n",
    "# include = '\\.pyi'\n",
    "print(\n",
    "    \"Black configuration:\",\n",
    "    parsed[\"tool\"][\"black\"],\n",
    ")"
   ]
  },
  {
   "cell_type": "markdown",
   "metadata": {
    "tags": []
   },
   "source": [
    "```{=latex}\n",
    "\\end{frame}\n",
    "```"
   ]
  },
  {
   "cell_type": "markdown",
   "metadata": {},
   "source": [
    "Many,\n",
    "though not all,\n",
    "Python ecosystem tools support\n",
    "pyproject-based configuration.\n",
    "For example,\n",
    "`black`\n",
    "will allow you to configure which\n",
    "files it should check."
   ]
  },
  {
   "cell_type": "markdown",
   "metadata": {},
   "source": [
    "### Example: Configuring coverage"
   ]
  },
  {
   "cell_type": "code",
   "execution_count": 56,
   "metadata": {},
   "outputs": [],
   "source": [
    "minimal_pyproject = \"\"\"\\\n",
    "[build-system]\n",
    "requires = [\"setuptool\"]\n",
    "build-backend = \"setuptools.build_meta\"\n",
    "\n",
    "[project]\n",
    "name = \"orbipatch\"\n",
    "version = \"2022.3.6.2\"\n",
    "description = \"silly project named after a niche math thing\"\n",
    "readme = \"README.rst\"\n",
    "authors = [{name = \"MZ\", email = \"mz@devskillup.com\"}]\n",
    "\n",
    "[tool.coverage.run]\n",
    "branch = true\n",
    "\"\"\"\n",
    "parsed = tomli.loads(minimal_pyproject)"
   ]
  },
  {
   "cell_type": "markdown",
   "metadata": {
    "tags": []
   },
   "source": [
    "```{=latex}\n",
    "\\begin{frame}[fragile]\n",
    "\\frametitle{Configuring coverage}\n",
    "\n",
    "Like with setup.cfg, with prefix \"tool.\":\n",
    "```"
   ]
  },
  {
   "cell_type": "code",
   "execution_count": 58,
   "metadata": {},
   "outputs": [
    {
     "name": "stdout",
     "output_type": "stream",
     "text": [
      "Coverage configuration: {'run': {'branch': True}}\n"
     ]
    }
   ],
   "source": [
    "# [tool.coverage.run]\n",
    "# branch = true\n",
    "print(\n",
    "    \"Coverage configuration:\",\n",
    "    parsed[\"tool\"][\"coverage\"],\n",
    ")"
   ]
  },
  {
   "cell_type": "markdown",
   "metadata": {
    "tags": []
   },
   "source": [
    "```{=latex}\n",
    "\\end{frame}\n",
    "```"
   ]
  },
  {
   "cell_type": "markdown",
   "metadata": {},
   "source": [
    "Coverage can also be configured via pyproject.\n",
    "In this example,\n",
    "we are configuring branch coverage\n",
    "(as you should!)"
   ]
  },
  {
   "cell_type": "markdown",
   "metadata": {},
   "source": [
    "### Example: Configuring isort"
   ]
  },
  {
   "cell_type": "code",
   "execution_count": 20,
   "metadata": {},
   "outputs": [],
   "source": [
    "minimal_pyproject = \"\"\"\\\n",
    "[build-system]\n",
    "requires = [\"setuptool\"]\n",
    "build-backend = \"setuptools.build_meta\"\n",
    "\n",
    "[project]\n",
    "name = \"orbipatch\"\n",
    "version = \"2022.3.6.2\"\n",
    "description = \"silly project named after a niche math thing\"\n",
    "readme = \"README.rst\"\n",
    "authors = [{name = \"MZ\", email = \"mz@devskillup.com\"}]\n",
    "\n",
    "[tool.isort]\n",
    "src_paths = [\"isort\", \"test\"]\n",
    "\"\"\"\n",
    "parsed = tomli.loads(minimal_pyproject)"
   ]
  },
  {
   "cell_type": "markdown",
   "metadata": {
    "tags": []
   },
   "source": [
    "```{=latex}\n",
    "\\begin{frame}[fragile]\n",
    "\\frametitle{Configuring isort}\n",
    "\n",
    "Like with setup.cfg, with prefix \"tool.\":\n",
    "```"
   ]
  },
  {
   "cell_type": "code",
   "execution_count": 21,
   "metadata": {},
   "outputs": [
    {
     "name": "stdout",
     "output_type": "stream",
     "text": [
      "isort configuration:\n",
      " {'src_paths': ['isort', 'test']}\n"
     ]
    }
   ],
   "source": [
    "# [tool.isort]\n",
    "# src_paths = [\"isort\", \"test\"]\n",
    "print(\n",
    "    \"isort configuration:\\n\",\n",
    "    parsed[\"tool\"][\"isort\"],\n",
    ")"
   ]
  },
  {
   "cell_type": "markdown",
   "metadata": {
    "tags": []
   },
   "source": [
    "```{=latex}\n",
    "\\end{frame}\n",
    "```"
   ]
  },
  {
   "cell_type": "markdown",
   "metadata": {},
   "source": [
    "The last Python ecosystem tool I'll show is\n",
    "`isort`.\n",
    "In this example,\n",
    "it shows how to configure the source paths\n",
    "that isort will cover."
   ]
  },
  {
   "cell_type": "markdown",
   "metadata": {},
   "source": [
    "## Project metadata"
   ]
  },
  {
   "cell_type": "markdown",
   "metadata": {
    "tags": []
   },
   "source": [
    "```{=latex}\n",
    "\\begin{frame}\n",
    "\\frametitle{project metadata}\n",
    "\n",
    "project section: \\pause\n",
    "packaging semantics edition\n",
    "\n",
    "\\end{frame}\n",
    "```"
   ]
  },
  {
   "cell_type": "markdown",
   "metadata": {},
   "source": [
    "Some project metadata is\n",
    "\"semantically neutral\".\n",
    "Python doesn't care if your project is called\n",
    "\"super_cool\"\n",
    "or\n",
    "\"really_sad\".\n",
    "\n",
    "Other fields in the project metadata are less so.\n",
    "Let's dive into them!"
   ]
  },
  {
   "cell_type": "markdown",
   "metadata": {},
   "source": [
    "### Dependencies"
   ]
  },
  {
   "cell_type": "code",
   "execution_count": 64,
   "metadata": {},
   "outputs": [],
   "source": [
    "minimal_pyproject = \"\"\"\\\n",
    "[build-system]\n",
    "requires = [\"setuptool\"]\n",
    "build-backend = \"setuptools.build_meta\"\n",
    "\n",
    "[project]\n",
    "name = \"orbipatch\"\n",
    "version = \"2022.3.6.2\"\n",
    "description = \"silly project named after a niche math thing\"\n",
    "readme = \"README.rst\"\n",
    "authors = [{name = \"MZ\", email = \"mz@devskillup.com\"}]\n",
    "dependencies = [\"six\"]\n",
    "\"\"\"\n",
    "parsed = tomli.loads(minimal_pyproject)"
   ]
  },
  {
   "cell_type": "markdown",
   "metadata": {
    "tags": []
   },
   "source": [
    "```{=latex}\n",
    "\\begin{frame}[fragile]\n",
    "\\frametitle{Configuring dependencies}\n",
    "\n",
    "```"
   ]
  },
  {
   "cell_type": "code",
   "execution_count": null,
   "metadata": {},
   "outputs": [],
   "source": [
    "# [project]\n",
    "# ...\n",
    "# dependencies = [\"six\"]\n",
    "print(\n",
    "    \"dependencies:\",\n",
    "    parsed[\"project\"][\"dependencies\"],\n",
    ")"
   ]
  },
  {
   "cell_type": "markdown",
   "metadata": {
    "tags": []
   },
   "source": [
    "```{=latex}\n",
    "\\end{frame}\n",
    "```"
   ]
  },
  {
   "cell_type": "markdown",
   "metadata": {},
   "source": [
    "The most common\n",
    "semantically meaningful\n",
    "field is dependencies.\n",
    "It is not universal:\n",
    "some packages do not depend on any others as a matter of policy.\n",
    "\n",
    "For everything else,\n",
    "the 99%,\n",
    "the\n",
    "`dependencies`\n",
    "field in the metadata does the trick.\n",
    "Those dependencies will be translated into\n",
    "wheel\n",
    "dependencies by most packaging backends,\n",
    "including\n",
    "`setuptools`."
   ]
  },
  {
   "cell_type": "markdown",
   "metadata": {},
   "source": [
    "### Extra dependencies"
   ]
  },
  {
   "cell_type": "code",
   "execution_count": 31,
   "metadata": {},
   "outputs": [],
   "source": [
    "minimal_pyproject = \"\"\"\\\n",
    "[build-system]\n",
    "requires = [\"setuptool\"]\n",
    "build-backend = \"setuptools.build_meta\"\n",
    "\n",
    "[project]\n",
    "name = \"orbipatch\"\n",
    "version = \"2022.3.6.2\"\n",
    "description = \"silly project named after a niche math thing\"\n",
    "readme = \"README.rst\"\n",
    "authors = [{name = \"MZ\", email = \"mz@devskillup.com\"}]\n",
    "\n",
    "[project.optional-dependencies]\n",
    "tests = [\"pytest\"]\n",
    "docs = [\"sphinx\"]\n",
    "\"\"\"\n",
    "parsed = tomli.loads(minimal_pyproject)"
   ]
  },
  {
   "cell_type": "markdown",
   "metadata": {
    "tags": []
   },
   "source": [
    "```{=latex}\n",
    "\\begin{frame}[fragile]\n",
    "\\frametitle{Configuring optional dependencies}\n",
    "\n",
    "```"
   ]
  },
  {
   "cell_type": "code",
   "execution_count": 32,
   "metadata": {
    "tags": []
   },
   "outputs": [
    {
     "name": "stdout",
     "output_type": "stream",
     "text": [
      "Optional dependencies:\n",
      " {'tests': ['pytest'], 'docs': ['sphinx']}\n"
     ]
    }
   ],
   "source": [
    "# [project.optional-dependencies]\n",
    "# tests = [\"pytest\"]\n",
    "# docs = [\"sphinx\"]\n",
    "print(\n",
    "    \"Optional dependencies:\\n\",\n",
    "    parsed[\"project\"][\"optional-dependencies\"],\n",
    ")"
   ]
  },
  {
   "cell_type": "markdown",
   "metadata": {
    "tags": []
   },
   "source": [
    "```{=latex}\n",
    "\\end{frame}\n",
    "```"
   ]
  },
  {
   "cell_type": "markdown",
   "metadata": {},
   "source": [
    "Second only to the regular dependencies\n",
    "come the\n",
    "\"optional\"\n",
    "dependencies.\n",
    "Whether it is\n",
    "dev-only\n",
    "dependencies\n",
    "or dependencies that support a particular way to use the package,\n",
    "these are everywhere.\n",
    "\n",
    "In theory,\n",
    "you could use a KV\n",
    "format with\n",
    "`optional-dependnecies = { tests = [\"pytest\"] }`\n",
    "but this feels a little on the busy side."
   ]
  },
  {
   "cell_type": "markdown",
   "metadata": {
    "tags": []
   },
   "source": [
    "### Console scripts"
   ]
  },
  {
   "cell_type": "code",
   "execution_count": 73,
   "metadata": {},
   "outputs": [],
   "source": [
    "minimal_pyproject = \"\"\"\\\n",
    "[build-system]\n",
    "requires = [\"setuptool\"]\n",
    "build-backend = \"setuptools.build_meta\"\n",
    "\n",
    "[project]\n",
    "name = \"orbipatch\"\n",
    "version = \"2022.3.6.2\"\n",
    "description = \"silly project named after a niche math thing\"\n",
    "readme = \"README.rst\"\n",
    "authors = [{name = \"MZ\", email = \"mz@devskillup.com\"}]\n",
    "\n",
    "[project.scripts]\n",
    "awesome-command = \"my_package:main\"\n",
    "\"\"\"\n",
    "parsed = tomli.loads(minimal_pyproject)"
   ]
  },
  {
   "cell_type": "markdown",
   "metadata": {
    "tags": []
   },
   "source": [
    "```{=latex}\n",
    "\\begin{frame}[fragile]\n",
    "\\frametitle{Configuring console scripts}\n",
    "\n",
    "```"
   ]
  },
  {
   "cell_type": "code",
   "execution_count": 74,
   "metadata": {},
   "outputs": [
    {
     "name": "stdout",
     "output_type": "stream",
     "text": [
      "scripts: {'awesome-command': 'my_package:main'}\n"
     ]
    }
   ],
   "source": [
    "# [project.scripts]\n",
    "# awesome-command = \"my_package:main\"\n",
    "print(\n",
    "    \"scripts:\",\n",
    "    parsed[\"project\"][\"scripts\"],\n",
    ")"
   ]
  },
  {
   "cell_type": "markdown",
   "metadata": {
    "tags": []
   },
   "source": [
    "```{=latex}\n",
    "\\end{frame}\n",
    "```"
   ]
  },
  {
   "cell_type": "markdown",
   "metadata": {},
   "source": [
    "Next in the list of popularity is\n",
    "\"console scripts\".\n",
    "These used to be part of\n",
    "`entrypoints`\n",
    "but got so big they deserve their own section.\n",
    "\n",
    "The semantics are\n",
    "`full.path.to.module:callable_object`.\n",
    "The wheel builder will take care of the rest."
   ]
  },
  {
   "cell_type": "markdown",
   "metadata": {
    "tags": []
   },
   "source": [
    "### Entrypoints"
   ]
  },
  {
   "cell_type": "code",
   "execution_count": 33,
   "metadata": {},
   "outputs": [],
   "source": [
    "minimal_pyproject = \"\"\"\\\n",
    "[build-system]\n",
    "requires = [\"setuptool\"]\n",
    "build-backend = \"setuptools.build_meta\"\n",
    "\n",
    "[project]\n",
    "name = \"orbipatch\"\n",
    "version = \"2022.3.6.2\"\n",
    "description = \"silly project named after a niche math thing\"\n",
    "readme = \"README.rst\"\n",
    "authors = [{name = \"MZ\", email = \"mz@devskillup.com\"}]\n",
    "\n",
    "[project.entry-points.\"paste.app_factory\"]\n",
    "main = \"my-package:main\"\n",
    "\"\"\"\n",
    "parsed = tomli.loads(minimal_pyproject)"
   ]
  },
  {
   "cell_type": "markdown",
   "metadata": {
    "tags": []
   },
   "source": [
    "```{=latex}\n",
    "\\begin{frame}[fragile]\n",
    "\\frametitle{Configuring entry points}\n",
    "\n",
    "```"
   ]
  },
  {
   "cell_type": "code",
   "execution_count": 34,
   "metadata": {},
   "outputs": [
    {
     "name": "stdout",
     "output_type": "stream",
     "text": [
      "entry points:\n",
      " {'paste.app_factory': {'main': 'my-package:main'}}\n"
     ]
    }
   ],
   "source": [
    "# [project.entry-points.\"paste.app_factory\"]\n",
    "# main = \"my-package:main\"\n",
    "print(\n",
    "    \"entry points:\\n\",\n",
    "    parsed[\"project\"][\"entry-points\"],\n",
    ")"
   ]
  },
  {
   "cell_type": "markdown",
   "metadata": {
    "tags": []
   },
   "source": [
    "```{=latex}\n",
    "\\end{frame}\n",
    "```"
   ]
  },
  {
   "cell_type": "markdown",
   "metadata": {},
   "source": [
    "Generic entrypoints are not gone,\n",
    "though.\n",
    "Your hand-crafted entrypoints for configuring\n",
    "`paste`\n",
    "or including a setuptools plugins\n",
    "are still working.\n",
    "\n",
    "\n",
    "In theory, the semantics are arbitrary,\n",
    "but the convention of\n",
    "`module:object`\n",
    "is still strong."
   ]
  },
  {
   "cell_type": "markdown",
   "metadata": {},
   "source": [
    "## Building with setuptools"
   ]
  },
  {
   "cell_type": "markdown",
   "metadata": {},
   "source": [
    "### Build system details"
   ]
  },
  {
   "cell_type": "markdown",
   "metadata": {
    "tags": []
   },
   "source": [
    "```{=latex}\n",
    "\\begin{frame}[fragile]\n",
    "\\frametitle{Build system}\n",
    "\n",
    "Requires: \\pause\n",
    "Usual dependency rules (can include minimal, pinned, etc.) \\pause\n",
    "\n",
    "Build system: \\pause\n",
    "PEP 517:\n",
    "```"
   ]
  },
  {
   "cell_type": "code",
   "execution_count": 75,
   "metadata": {},
   "outputs": [],
   "source": [
    "def build_wheel(\n",
    "    wheel_directory,\n",
    "    config_settings=None,\n",
    "    metadata_directory=None,\n",
    "):\n",
    "    ..."
   ]
  },
  {
   "cell_type": "markdown",
   "metadata": {
    "tags": []
   },
   "source": [
    "```{=latex}\n",
    "\\end{frame}\n",
    "```"
   ]
  },
  {
   "cell_type": "markdown",
   "metadata": {},
   "source": [
    "PEP517 describes how a build system is supposed to work.\n",
    "There are a few optional parts,\n",
    "but the most important part is a\n",
    "`build_wheel`\n",
    "function.\n",
    "This function is similar to WSGI.\n",
    "\n",
    "A\n",
    "*builder*\n",
    "is supposed to call this function with appropriate parameters.\n",
    "A\n",
    "*build system*\n",
    "is supposed to implement the function correctly.\n",
    "\n",
    "This allows multiple build front ends and multiple build back ends.\n",
    "While there are many popular back ends,\n",
    "just like in web servers,\n",
    "front ends are fewer."
   ]
  },
  {
   "cell_type": "markdown",
   "metadata": {},
   "source": [
    "### Using `python -m build`"
   ]
  },
  {
   "cell_type": "markdown",
   "metadata": {
    "tags": []
   },
   "source": [
    "```{=latex}\n",
    "\\begin{frame}[fragile]\n",
    "\\frametitle{Packaging Python}\n",
    "\n",
    "\\includegraphics[scale=0.1]{package}\n",
    "\n",
    "\\end{frame}\n",
    "```"
   ]
  },
  {
   "cell_type": "markdown",
   "metadata": {},
   "source": [
    "The\n",
    "`pyproject.toml`\n",
    "file is useful in building\n",
    "packages."
   ]
  },
  {
   "cell_type": "markdown",
   "metadata": {
    "tags": []
   },
   "source": [
    "```{=latex}\n",
    "\\begin{frame}[fragile]\n",
    "\\frametitle{python -m build}\n",
    "\n",
    "Usually: \\pause Just works \\pause\n",
    "\n",
    "Hint: \\pause Use \"src/\" structure \\pause\n",
    "\n",
    "Sometimes: \\pause BETA! \\pause\n",
    "\"tools.setup.<something>\"\n",
    "\n",
    "\\end{frame}\n",
    "```"
   ]
  },
  {
   "cell_type": "markdown",
   "metadata": {},
   "source": [
    "The most popular builder front end is\n",
    "`-m build`.\n",
    "It mostly just works with a correct\n",
    "`pyproject.toml`\n",
    "which configures\n",
    "`setuptools`.\n",
    "\n",
    "The most common failure with setuptools\n",
    "is that it will fail to recognize where your sources are.\n",
    "The best way to fix it is to use the\n",
    "`src/`\n",
    "layout,\n",
    "which removes a lot of the ambiguity.\n",
    "\n",
    "The alternative is to have a section for\n",
    "`tools.setup.<something>`\n",
    "to configure it explicitly.\n",
    "Note that the fields and their semantics\n",
    "are currently\n",
    "\"beta\"\n",
    "as far as setuptools is concerned."
   ]
  },
  {
   "cell_type": "markdown",
   "metadata": {},
   "source": [
    "### Editable installs with setuptools"
   ]
  },
  {
   "cell_type": "markdown",
   "metadata": {
    "tags": []
   },
   "source": [
    "```{=latex}\n",
    "\\begin{frame}[fragile]\n",
    "\\frametitle{Editable installs}\n",
    "\n",
    "Empty setup.cfg: no longer needed\n",
    "\n",
    "\\includegraphics[scale=0.1]{editable}\n",
    "\n",
    "\\end{frame}\n",
    "```"
   ]
  },
  {
   "cell_type": "markdown",
   "metadata": {},
   "source": [
    "For\n",
    "*editable*\n",
    "installs,\n",
    "you do need an empty\n",
    "`setup.cfg`.\n",
    "Luckily,\n",
    "this is all you need.\n",
    "\n",
    "Hopefully,\n",
    "at some point,\n",
    "this will no longer be needed."
   ]
  },
  {
   "cell_type": "markdown",
   "metadata": {},
   "source": [
    "### Dynamic fields"
   ]
  },
  {
   "cell_type": "code",
   "execution_count": 76,
   "metadata": {},
   "outputs": [],
   "source": [
    "minimal_pyproject = \"\"\"\\\n",
    "[build-system]\n",
    "requires = [\"setuptool\"]\n",
    "build-backend = \"setuptools.build_meta\"\n",
    "\n",
    "[project]\n",
    "name = \"orbipatch\"\n",
    "dynamic = [\"version\"]\n",
    "\"\"\"\n",
    "parsed = tomli.loads(minimal_pyproject)"
   ]
  },
  {
   "cell_type": "markdown",
   "metadata": {
    "tags": []
   },
   "source": [
    "```{=latex}\n",
    "\\begin{frame}[fragile]\n",
    "\\frametitle{Dynamic fields}\n",
    "```"
   ]
  },
  {
   "cell_type": "code",
   "execution_count": 79,
   "metadata": {},
   "outputs": [
    {
     "name": "stdout",
     "output_type": "stream",
     "text": [
      "name orbipatch\n",
      "project {'dynamic': ['version']}\n"
     ]
    }
   ],
   "source": [
    "# [project]\n",
    "# name = \"orbipatch\"\n",
    "# dynamic = [\"version\"]\n",
    "print(\n",
    "    \"name\",\n",
    "    parsed[\"project\"].pop(\"name\"),\n",
    ")\n",
    "print(\n",
    "    \"project\",\n",
    "    parsed[\"project\"],\n",
    ")"
   ]
  },
  {
   "cell_type": "markdown",
   "metadata": {
    "tags": []
   },
   "source": [
    "```{=latex}\n",
    "\\end{frame}\n",
    "```"
   ]
  },
  {
   "cell_type": "markdown",
   "metadata": {},
   "source": [
    "Earlier,\n",
    "I said the project\n",
    "*has*\n",
    "to include name and version.\n",
    "This was a mild lie.\n",
    "\n",
    "A project has to include the version\n",
    "*or*\n",
    "explicitly note that it will be\n",
    "filled in by other tools.\n",
    "This is what the\n",
    "`dynamic`\n",
    "field does.\n",
    "This allows using your wheel builder,\n",
    "in our case setuptools,\n",
    "to set the version."
   ]
  },
  {
   "cell_type": "markdown",
   "metadata": {},
   "source": [
    "### Example: Using `setuptools_scm`"
   ]
  },
  {
   "cell_type": "markdown",
   "metadata": {
    "tags": []
   },
   "source": [
    "```{=latex}\n",
    "\\begin{frame}[fragile]\n",
    "\\frametitle{setuptools scm}\n",
    "```"
   ]
  },
  {
   "cell_type": "code",
   "execution_count": 80,
   "metadata": {},
   "outputs": [],
   "source": [
    "# [build-system]\n",
    "# requires = [\n",
    "#   \"setuptools\",\n",
    "#   \"setuptools_scm\",\n",
    "# ]\n",
    "#\n",
    "# [project]\n",
    "# name = \"orbipatch\"\n",
    "# dynamic = [\"version\"]"
   ]
  },
  {
   "cell_type": "markdown",
   "metadata": {
    "tags": []
   },
   "source": [
    "```{=latex}\n",
    "\\end{frame}\n",
    "```"
   ]
  },
  {
   "cell_type": "markdown",
   "metadata": {},
   "source": [
    "Setuptools will not set the version itself,\n",
    "though.\n",
    "However,\n",
    "there are plugins which allow setting the version.\n",
    "\n",
    "One popular plugin is\n",
    "`setuptools_scm`,\n",
    "which will set the version from tags and other\n",
    "aspects of the version-controlled repository."
   ]
  },
  {
   "cell_type": "markdown",
   "metadata": {},
   "source": [
    "## Recap\n",
    "\n",
    "### pyproject.toml: source of truth"
   ]
  },
  {
   "cell_type": "markdown",
   "metadata": {
    "tags": []
   },
   "source": [
    "```{=latex}\n",
    "\\begin{frame}[fragile]\n",
    "\\frametitle{pyproject.toml}\n",
    "\n",
    "Packaging! \\pause\n",
    "\n",
    "Also: Everything else \\pause\n",
    "\n",
    "Support in your own tooling\n",
    "\\end{frame}\n",
    "```"
   ]
  },
  {
   "cell_type": "markdown",
   "metadata": {},
   "source": [
    "`pyproject.toml`\n",
    "can be the ultimate source of truth.\n",
    "As more and more tools use it,\n",
    "including packaging,\n",
    "you need fewer\n",
    "\"boilerplate\"\n",
    "files.\n",
    "\n",
    "If you write your own tooling for Python,\n",
    "consider supporting\n",
    "`pyproject.toml`\n",
    "as your configuration file."
   ]
  },
  {
   "cell_type": "markdown",
   "metadata": {},
   "source": [
    "### Important fields"
   ]
  },
  {
   "cell_type": "markdown",
   "metadata": {
    "tags": []
   },
   "source": [
    "```{=latex}\n",
    "\\begin{frame}[fragile]\n",
    "\\frametitle{project fields}\n",
    "\n",
    "Name\n",
    "\\pause\n",
    "\n",
    "Version\n",
    "\\pause\n",
    "\n",
    "Description, license, readme\n",
    "\\pause\n",
    "\n",
    "Dependencies (and Optional dependencies)\n",
    "\\pause\n",
    "\n",
    "Scripts\n",
    "\\pause\n",
    "\n",
    "Entry points\n",
    "\\end{frame}\n",
    "```"
   ]
  },
  {
   "cell_type": "markdown",
   "metadata": {},
   "source": [
    "The important fields in\n",
    "`pyproject.toml`'s `project` section are:\n",
    "\n",
    "* Name\n",
    "* Version\n",
    "* Person facing metadata: Description, license, README\n",
    "* Dependencies and optional dependencies\n",
    "* Scripts and entrypoints"
   ]
  },
  {
   "cell_type": "markdown",
   "metadata": {},
   "source": [
    "### setuptools support"
   ]
  },
  {
   "cell_type": "markdown",
   "metadata": {
    "tags": []
   },
   "source": [
    "```{=latex}\n",
    "\\begin{frame}[fragile]\n",
    "\\frametitle{setuptools support}\n",
    "\n",
    "Defaults usually good \\pause\n",
    "\n",
    "Use src/ \\pause\n",
    "(convention over configuration!)\n",
    "\\pause\n",
    "\n",
    "Configure lightly where you must \\pause\n",
    "\n",
    "\"python -m build\"\n",
    "future-proofing\n",
    "\n",
    "\\end{frame}\n",
    "```"
   ]
  },
  {
   "cell_type": "markdown",
   "metadata": {},
   "source": [
    "With a reasonably-written\n",
    "`pyproject.toml`,\n",
    "setuptools will usually \n",
    "do the right thing\n",
    "without any specific configuration.\n",
    "This is especially if you use the less\n",
    "ambiguous\n",
    "`src/`\n",
    "layout.\n",
    "\n",
    "Where you need to configure,\n",
    "tread lightly.\n",
    "In your build tooling,\n",
    "use\n",
    "`python -m build`.\n",
    "This makes switching to\n",
    "flit,\n",
    "hatch,\n",
    "poetry,\n",
    "or something else\n",
    "possible by changing nothing more\n",
    "than\n",
    "`pyproject.toml`."
   ]
  },
  {
   "cell_type": "markdown",
   "metadata": {},
   "source": [
    "```{=latex}\n",
    "\\end{document}\n",
    "```"
   ]
  }
 ],
 "metadata": {
  "kernelspec": {
   "display_name": "pyproject-toml-talk",
   "language": "python",
   "name": "pyproject-toml-talk-venv"
  },
  "language_info": {
   "codemirror_mode": {
    "name": "ipython",
    "version": 3
   },
   "file_extension": ".py",
   "mimetype": "text/x-python",
   "name": "python",
   "nbconvert_exporter": "python",
   "pygments_lexer": "ipython3",
   "version": "3.10.7"
  },
  "toc-autonumbering": false
 },
 "nbformat": 4,
 "nbformat_minor": 4
}
