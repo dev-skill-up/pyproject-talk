{
 "cells": [
  {
   "cell_type": "markdown",
   "metadata": {},
   "source": [
    "```{=latex}\n",
    "\\usepackage{hyperref}\n",
    "\\usepackage{graphicx}\n",
    "\\usepackage{listings}\n",
    "\\usepackage{textcomp}\n",
    "\\usepackage{fancyvrb}\n",
    "\n",
    "\\newcommand{\\passthrough}[1]{\\lstset{mathescape=false}#1\\lstset{mathescape=true}}\n",
    "\\newcommand{\\tightlist}{}\n",
    "```"
   ]
  },
  {
   "cell_type": "markdown",
   "metadata": {},
   "source": [
    "```{=latex}\n",
    "\\title{pyproject.toml, packaging, and you}\n",
    "\\author{Moshe Zadka -- https://cobordism.com}\n",
    "\\date{}\n",
    "\n",
    "\\begin{document}\n",
    "\\begin{titlepage}\n",
    "\\maketitle\n",
    "\\end{titlepage}\n",
    "\n",
    "\\frame{\\titlepage}\n",
    "```"
   ]
  },
  {
   "cell_type": "markdown",
   "metadata": {
    "tags": []
   },
   "source": [
    "```{=latex}\n",
    "\\begin{frame}\n",
    "\\frametitle{Acknowledgement of Country}\n",
    "\n",
    "Belmont (in San Francisco Bay Area Peninsula)\n",
    "\n",
    "Ancestral homeland of the Ramaytush Ohlone people\n",
    "\n",
    "\\end{frame}\n",
    "```"
   ]
  },
  {
   "cell_type": "markdown",
   "metadata": {
    "tags": []
   },
   "source": [
    "I live in Belmont,\n",
    "in the San Francisco Bay Area Peninsula.\n",
    "I wish to acknowledge it as the\n",
    "ancestral homeland\n",
    "of the\n",
    "Ramaytush Ohlone people."
   ]
  },
  {
   "cell_type": "markdown",
   "metadata": {},
   "source": [
    "## Basics\n",
    "\n",
    "### What is TOML?"
   ]
  },
  {
   "cell_type": "markdown",
   "metadata": {
    "tags": []
   },
   "source": [
    "```{=latex}\n",
    "\\begin{frame}\n",
    "\\frametitle{What is TOML?}\n",
    "\n",
    "Semantics: \\pause JSON + date + float vs. integer \\pause\n",
    "\n",
    "Syntax: \\pause more editable than JSON, \\pause easier to parse than YAML\n",
    "\n",
    "\\end{frame}\n",
    "```"
   ]
  },
  {
   "cell_type": "markdown",
   "metadata": {
    "tags": []
   },
   "source": [
    "```{=latex}\n",
    "\\begin{frame}[fragile]\n",
    "\\frametitle{TOML example}\n",
    "```"
   ]
  },
  {
   "cell_type": "code",
   "execution_count": 34,
   "metadata": {},
   "outputs": [],
   "source": [
    "toml_stuff = \"\"\"\\\n",
    "[project] # Table -> Dictionary\n",
    "name = \"orbipatch\"\n",
    "authors = [ # Array -> List\n",
    "# Key/Value -> Dictionary\n",
    "{ name = \"MZ\", email = \"mz@devskillup.com\" }\n",
    "]\n",
    "\"\"\""
   ]
  },
  {
   "cell_type": "markdown",
   "metadata": {
    "tags": []
   },
   "source": [
    "```{=latex}\n",
    "\\end{frame}\n",
    "```"
   ]
  },
  {
   "cell_type": "markdown",
   "metadata": {
    "tags": []
   },
   "source": [
    "```{=latex}\n",
    "\\begin{frame}[fragile]\n",
    "\\frametitle{TOML example}\n",
    "```"
   ]
  },
  {
   "cell_type": "code",
   "execution_count": 35,
   "metadata": {},
   "outputs": [
    {
     "name": "stdout",
     "output_type": "stream",
     "text": [
      "{\n",
      "    \"project\": {\n",
      "        \"name\": \"orbipatch\",\n",
      "        \"authors\": [\n",
      "            {\n",
      "                \"name\": \"MZ\",\n",
      "                \"email\": \"mz@devskillup.com\"\n",
      "            }\n",
      "        ]\n",
      "    }\n",
      "}\n"
     ]
    }
   ],
   "source": [
    "import tomli # tomllib in Python 3.11+\n",
    "import json\n",
    "print(json.dumps(\n",
    "    tomli.loads(toml_stuff),\n",
    "    indent=4,\n",
    "))"
   ]
  },
  {
   "cell_type": "markdown",
   "metadata": {
    "tags": []
   },
   "source": [
    "```{=latex}\n",
    "\\end{frame}\n",
    "```"
   ]
  },
  {
   "cell_type": "markdown",
   "metadata": {},
   "source": [
    "### What is pyproject.toml?"
   ]
  },
  {
   "cell_type": "markdown",
   "metadata": {
    "tags": []
   },
   "source": [
    "```{=latex}\n",
    "\\begin{frame}\n",
    "\\frametitle{pyproject.toml}\n",
    "\n",
    "Originally: Configure build system, \\pause\n",
    "experimenting with alternatives, \\pause\n",
    "setuptools plugins, \\pause\n",
    "etc. \\pause\n",
    "\n",
    "Now: \\pause\n",
    "Still that but also: \\pause\n",
    "build-system agnostic metadata, \\pause\n",
    "configure ecosystem tools.\n",
    "\n",
    "\\end{frame}\n",
    "```"
   ]
  },
  {
   "cell_type": "markdown",
   "metadata": {},
   "source": [
    "### Parsing pyproject.toml"
   ]
  },
  {
   "cell_type": "code",
   "execution_count": 36,
   "metadata": {},
   "outputs": [],
   "source": [
    "minimal_pyproject = \"\"\"\\\n",
    "[build-system]\n",
    "requires = [\"setuptool\"]\n",
    "build-backend = \"setuptools.build_meta\"\n",
    "\n",
    "[project]\n",
    "name = \"orbipatch\"\n",
    "version = \"2022.3.6.2\"\n",
    "description = \"silly project named after a niche math thing\"\n",
    "readme = \"README.rst\"\n",
    "authors = [{name = \"MZ\", email = \"mz@devskillup.com\"}]\n",
    "\"\"\""
   ]
  },
  {
   "cell_type": "markdown",
   "metadata": {
    "tags": []
   },
   "source": [
    "```{=latex}\n",
    "\\begin{frame}[fragile]\n",
    "\\frametitle{Parsing pyproject.toml}\n",
    "```"
   ]
  },
  {
   "cell_type": "code",
   "execution_count": 47,
   "metadata": {},
   "outputs": [
    {
     "name": "stdout",
     "output_type": "stream",
     "text": [
      "Build system requires: ['setuptool']\n"
     ]
    }
   ],
   "source": [
    "parsed = tomli.loads(minimal_pyproject)\n",
    "print(\n",
    "    \"Build system requires:\",\n",
    "    parsed[\"build-system\"].pop(\"requires\")\n",
    ")"
   ]
  },
  {
   "cell_type": "markdown",
   "metadata": {
    "tags": []
   },
   "source": [
    "```{=latex}\n",
    "\\end{frame}\n",
    "```"
   ]
  },
  {
   "cell_type": "markdown",
   "metadata": {
    "tags": []
   },
   "source": [
    "```{=latex}\n",
    "\\begin{frame}[fragile]\n",
    "\\frametitle{Parsing pyproject.toml}\n",
    "```"
   ]
  },
  {
   "cell_type": "code",
   "execution_count": 48,
   "metadata": {},
   "outputs": [
    {
     "name": "stdout",
     "output_type": "stream",
     "text": [
      "Build backend setuptools.build_meta\n"
     ]
    }
   ],
   "source": [
    "print(\n",
    "    \"Build backend\",\n",
    "    parsed[\"build-system\"].pop(\"build-backend\")\n",
    ")"
   ]
  },
  {
   "cell_type": "markdown",
   "metadata": {
    "tags": []
   },
   "source": [
    "```{=latex}\n",
    "\\end{frame}\n",
    "```"
   ]
  },
  {
   "cell_type": "markdown",
   "metadata": {
    "tags": []
   },
   "source": [
    "```{=latex}\n",
    "\\begin{frame}[fragile]\n",
    "\\frametitle{Parsing pyproject.toml}\n",
    "```"
   ]
  },
  {
   "cell_type": "code",
   "execution_count": 49,
   "metadata": {},
   "outputs": [
    {
     "name": "stdout",
     "output_type": "stream",
     "text": [
      "Project authors [{'name': 'MZ', 'email': 'mz@devskillup.com'}]\n"
     ]
    }
   ],
   "source": [
    "print(\"Project authors\", parsed[\"project\"].pop(\"authors\"))"
   ]
  },
  {
   "cell_type": "markdown",
   "metadata": {
    "tags": []
   },
   "source": [
    "```{=latex}\n",
    "\\end{frame}\n",
    "```"
   ]
  },
  {
   "cell_type": "markdown",
   "metadata": {
    "tags": []
   },
   "source": [
    "```{=latex}\n",
    "\\begin{frame}[fragile]\n",
    "\\frametitle{Parsing pyproject.toml}\n",
    "```"
   ]
  },
  {
   "cell_type": "code",
   "execution_count": 50,
   "metadata": {},
   "outputs": [
    {
     "name": "stdout",
     "output_type": "stream",
     "text": [
      "Project description silly project named after a niche math thing\n"
     ]
    }
   ],
   "source": [
    "print(\"Project description\", parsed[\"project\"].pop(\"description\"))"
   ]
  },
  {
   "cell_type": "markdown",
   "metadata": {
    "tags": []
   },
   "source": [
    "```{=latex}\n",
    "\\end{frame}\n",
    "```"
   ]
  },
  {
   "cell_type": "markdown",
   "metadata": {
    "tags": []
   },
   "source": [
    "```{=latex}\n",
    "\\begin{frame}[fragile]\n",
    "\\frametitle{Parsing pyproject.toml}\n",
    "```"
   ]
  },
  {
   "cell_type": "code",
   "execution_count": 51,
   "metadata": {},
   "outputs": [
    {
     "name": "stdout",
     "output_type": "stream",
     "text": [
      "Project {'name': 'orbipatch', 'version': '2022.3.6.2', 'readme': 'README.rst'}\n"
     ]
    }
   ],
   "source": [
    "print(\"Project\", parsed.pop(\"project\"))"
   ]
  },
  {
   "cell_type": "markdown",
   "metadata": {
    "tags": []
   },
   "source": [
    "```{=latex}\n",
    "\\end{frame}\n",
    "```"
   ]
  },
  {
   "cell_type": "markdown",
   "metadata": {},
   "source": [
    "### Build system"
   ]
  },
  {
   "cell_type": "markdown",
   "metadata": {
    "tags": []
   },
   "source": [
    "```{=latex}\n",
    "\\begin{frame}\n",
    "\\frametitle{build system}\n",
    "\n",
    "requires: \\pause\n",
    "Dependencies \\pause\n",
    "\n",
    "backend: \\pause\n",
    "Module that has the right methods\n",
    "\n",
    "\\end{frame}\n",
    "```"
   ]
  },
  {
   "cell_type": "markdown",
   "metadata": {},
   "source": [
    "### Project"
   ]
  },
  {
   "cell_type": "markdown",
   "metadata": {
    "tags": []
   },
   "source": [
    "```{=latex}\n",
    "\\begin{frame}\n",
    "\\frametitle{project}\n",
    "\n",
    "Must: \\pause\n",
    "name, version \\pause\n",
    "\n",
    "Recommended: \\pause\n",
    "Short description (usually inline), \\pause\n",
    "Long description (usually from file), \\pause\n",
    "License (usually from file, can be inlined), \\pause\n",
    "URLs (especially \"Homepage\")\n",
    "\n",
    "\\end{frame}\n",
    "```"
   ]
  },
  {
   "cell_type": "markdown",
   "metadata": {},
   "source": [
    "## Extensibility\n",
    "\n",
    "### The tools section"
   ]
  },
  {
   "cell_type": "code",
   "execution_count": 53,
   "metadata": {},
   "outputs": [],
   "source": [
    "minimal_pyproject = \"\"\"\\\n",
    "[build-system]\n",
    "requires = [\"setuptool\"]\n",
    "build-backend = \"setuptools.build_meta\"\n",
    "\n",
    "[project]\n",
    "name = \"orbipatch\"\n",
    "version = \"2022.3.6.2\"\n",
    "description = \"silly project named after a niche math thing\"\n",
    "readme = \"README.rst\"\n",
    "authors = [{name = \"MZ\", email = \"mz@devskillup.com\"}]\n",
    "\n",
    "[tool.black]\n",
    "include = '\\.pyi?$'\n",
    "\"\"\"\n",
    "parsed = tomli.loads(minimal_pyproject)"
   ]
  },
  {
   "cell_type": "markdown",
   "metadata": {
    "tags": []
   },
   "source": [
    "```{=latex}\n",
    "\\begin{frame}[fragile]\n",
    "\\frametitle{The tools section}\n",
    "\n",
    "Under \"tool.NAME\"\n",
    "```"
   ]
  },
  {
   "cell_type": "code",
   "execution_count": 55,
   "metadata": {},
   "outputs": [
    {
     "name": "stdout",
     "output_type": "stream",
     "text": [
      "Black configuration: {'include': '\\\\.pyi?$'}\n"
     ]
    }
   ],
   "source": [
    "print(\n",
    "    \"Black configuration:\",\n",
    "    parsed[\"tool\"][\"black\"],\n",
    ")"
   ]
  },
  {
   "cell_type": "markdown",
   "metadata": {
    "tags": []
   },
   "source": [
    "```{=latex}\n",
    "\\end{frame}\n",
    "```"
   ]
  },
  {
   "cell_type": "markdown",
   "metadata": {},
   "source": [
    "### Example: Configuring coverage"
   ]
  },
  {
   "cell_type": "code",
   "execution_count": 56,
   "metadata": {},
   "outputs": [],
   "source": [
    "minimal_pyproject = \"\"\"\\\n",
    "[build-system]\n",
    "requires = [\"setuptool\"]\n",
    "build-backend = \"setuptools.build_meta\"\n",
    "\n",
    "[project]\n",
    "name = \"orbipatch\"\n",
    "version = \"2022.3.6.2\"\n",
    "description = \"silly project named after a niche math thing\"\n",
    "readme = \"README.rst\"\n",
    "authors = [{name = \"MZ\", email = \"mz@devskillup.com\"}]\n",
    "\n",
    "[tool.coverage.run]\n",
    "branch = true\n",
    "\"\"\"\n",
    "parsed = tomli.loads(minimal_pyproject)"
   ]
  },
  {
   "cell_type": "markdown",
   "metadata": {
    "tags": []
   },
   "source": [
    "```{=latex}\n",
    "\\begin{frame}[fragile]\n",
    "\\frametitle{Configuring coverage}\n",
    "\n",
    "Like with setup.cfg, with prefix \"tool.\":\n",
    "```"
   ]
  },
  {
   "cell_type": "code",
   "execution_count": 58,
   "metadata": {},
   "outputs": [
    {
     "name": "stdout",
     "output_type": "stream",
     "text": [
      "Coverage configuration: {'run': {'branch': True}}\n"
     ]
    }
   ],
   "source": [
    "# [tool.coverage.run]\n",
    "# branch = true\n",
    "print(\n",
    "    \"Coverage configuration:\",\n",
    "    parsed[\"tool\"][\"coverage\"],\n",
    ")"
   ]
  },
  {
   "cell_type": "markdown",
   "metadata": {
    "tags": []
   },
   "source": [
    "```{=latex}\n",
    "\\end{frame}\n",
    "```"
   ]
  },
  {
   "cell_type": "markdown",
   "metadata": {},
   "source": [
    "### Example: Configuring isort"
   ]
  },
  {
   "cell_type": "code",
   "execution_count": 60,
   "metadata": {},
   "outputs": [],
   "source": [
    "minimal_pyproject = \"\"\"\\\n",
    "[build-system]\n",
    "requires = [\"setuptool\"]\n",
    "build-backend = \"setuptools.build_meta\"\n",
    "\n",
    "[project]\n",
    "name = \"orbipatch\"\n",
    "version = \"2022.3.6.2\"c\n",
    "description = \"silly project named after a niche math thing\"\n",
    "readme = \"README.rst\"\n",
    "authors = [{name = \"MZ\", email = \"mz@devskillup.com\"}]\n",
    "\n",
    "[tool.isort]\n",
    "src_paths = [\"isort\", \"test\"]\n",
    "\"\"\"\n",
    "parsed = tomli.loads(minimal_pyproject)"
   ]
  },
  {
   "cell_type": "markdown",
   "metadata": {
    "tags": []
   },
   "source": [
    "```{=latex}\n",
    "\\begin{frame}[fragile]\n",
    "\\frametitle{Configuring isort}\n",
    "\n",
    "Like with setup.cfg, with prefix \"tool.\":\n",
    "```"
   ]
  },
  {
   "cell_type": "code",
   "execution_count": 62,
   "metadata": {},
   "outputs": [
    {
     "name": "stdout",
     "output_type": "stream",
     "text": [
      "isort configuration: {'src_paths': ['isort', 'test']}\n"
     ]
    }
   ],
   "source": [
    "# [tool.isort]\n",
    "# src_paths = [\"isort\", \"test\"]\n",
    "print(\n",
    "    \"isort configuration:\",\n",
    "    parsed[\"tool\"][\"isort\"],\n",
    ")"
   ]
  },
  {
   "cell_type": "markdown",
   "metadata": {
    "tags": []
   },
   "source": [
    "```{=latex}\n",
    "\\end{frame}\n",
    "```"
   ]
  },
  {
   "cell_type": "markdown",
   "metadata": {},
   "source": [
    "## Project metadata"
   ]
  },
  {
   "cell_type": "markdown",
   "metadata": {
    "tags": []
   },
   "source": [
    "```{=latex}\n",
    "\\begin{frame}\n",
    "\\frametitle{project metadata}\n",
    "\n",
    "project section: \\pause\n",
    "packaging semantics edition\n",
    "\n",
    "\\end{frame}\n",
    "```"
   ]
  },
  {
   "cell_type": "markdown",
   "metadata": {},
   "source": [
    "### Dependencies"
   ]
  },
  {
   "cell_type": "code",
   "execution_count": 64,
   "metadata": {},
   "outputs": [],
   "source": [
    "minimal_pyproject = \"\"\"\\\n",
    "[build-system]\n",
    "requires = [\"setuptool\"]\n",
    "build-backend = \"setuptools.build_meta\"\n",
    "\n",
    "[project]\n",
    "name = \"orbipatch\"\n",
    "version = \"2022.3.6.2\"\n",
    "description = \"silly project named after a niche math thing\"\n",
    "readme = \"README.rst\"\n",
    "authors = [{name = \"MZ\", email = \"mz@devskillup.com\"}]\n",
    "dependencies = [\"six\"]\n",
    "\"\"\"\n",
    "parsed = tomli.loads(minimal_pyproject)"
   ]
  },
  {
   "cell_type": "markdown",
   "metadata": {
    "tags": []
   },
   "source": [
    "```{=latex}\n",
    "\\begin{frame}[fragile]\n",
    "\\frametitle{Configuring dependencies}\n",
    "\n",
    "```"
   ]
  },
  {
   "cell_type": "code",
   "execution_count": 65,
   "metadata": {},
   "outputs": [
    {
     "name": "stdout",
     "output_type": "stream",
     "text": [
      "dependencies: ['six']\n"
     ]
    }
   ],
   "source": [
    "# [project]\n",
    "# ...\n",
    "# dependencies = [\"six\"]\n",
    "print(\n",
    "    \"dependencies:\",\n",
    "    parsed[\"project\"][\"dependencies\"],\n",
    ")"
   ]
  },
  {
   "cell_type": "markdown",
   "metadata": {
    "tags": []
   },
   "source": [
    "```{=latex}\n",
    "\\end{frame}\n",
    "```"
   ]
  },
  {
   "cell_type": "markdown",
   "metadata": {},
   "source": [
    "### Extra dependencies"
   ]
  },
  {
   "cell_type": "code",
   "execution_count": 66,
   "metadata": {},
   "outputs": [],
   "source": [
    "minimal_pyproject = \"\"\"\\\n",
    "[build-system]\n",
    "requires = [\"setuptool\"]\n",
    "build-backend = \"setuptools.build_meta\"\n",
    "\n",
    "[project]\n",
    "name = \"orbipatch\"\n",
    "version = \"2022.3.6.2\"\n",
    "description = \"silly project named after a niche math thing\"\n",
    "readme = \"README.rst\"\n",
    "authors = [{name = \"MZ\", email = \"mz@devskillup.com\"}]\n",
    "\n",
    "[project.optional-dependencies]\n",
    "tests = [\"pytest\"]\n",
    "docs = [\"sphinx\"]\n",
    "\"\"\"\n",
    "parsedc = tomli.loads(minimal_pyproject)"
   ]
  },
  {
   "cell_type": "markdown",
   "metadata": {
    "tags": []
   },
   "source": [
    "```{=latex}\n",
    "\\begin{frame}[fragile]\n",
    "\\frametitle{Configuring optional dependencies}\n",
    "\n",
    "```"
   ]
  },
  {
   "cell_type": "code",
   "execution_count": 68,
   "metadata": {},
   "outputs": [
    {
     "name": "stdout",
     "output_type": "stream",
     "text": [
      "Optional dependencies: {'tests': ['pytest'], 'docs': ['sphinx']}\n"
     ]
    }
   ],
   "source": [
    "# [project.optional-dependencies]\n",
    "# tests = [\"pytest\"]\n",
    "# docs = [\"sphinx\"]\n",
    "print(\n",
    "    \"Optional dependencies:\",\n",
    "    parsed[\"project\"][\"optional-dependencies\"],\n",
    ")"
   ]
  },
  {
   "cell_type": "markdown",
   "metadata": {
    "tags": []
   },
   "source": [
    "```{=latex}\n",
    "\\end{frame}\n",
    "```"
   ]
  },
  {
   "cell_type": "markdown",
   "metadata": {
    "tags": []
   },
   "source": [
    "### Console scripts"
   ]
  },
  {
   "cell_type": "code",
   "execution_count": 73,
   "metadata": {},
   "outputs": [],
   "source": [
    "minimal_pyproject = \"\"\"\\\n",
    "[build-system]\n",
    "requires = [\"setuptool\"]\n",
    "build-backend = \"setuptools.build_meta\"\n",
    "\n",
    "[project]\n",
    "name = \"orbipatch\"\n",
    "version = \"2022.3.6.2\"\n",
    "description = \"silly project named after a niche math thing\"\n",
    "readme = \"README.rst\"\n",
    "authors = [{name = \"MZ\", email = \"mz@devskillup.com\"}]\n",
    "\n",
    "[project.scripts]\n",
    "awesome-command = \"my_package:main\"\n",
    "\"\"\"\n",
    "parsed = tomli.loads(minimal_pyproject)"
   ]
  },
  {
   "cell_type": "markdown",
   "metadata": {
    "tags": []
   },
   "source": [
    "```{=latex}\n",
    "\\begin{frame}[fragile]\n",
    "\\frametitle{Configuring console scripts}\n",
    "\n",
    "```"
   ]
  },
  {
   "cell_type": "code",
   "execution_count": 74,
   "metadata": {},
   "outputs": [
    {
     "name": "stdout",
     "output_type": "stream",
     "text": [
      "scripts: {'awesome-command': 'my_package:main'}\n"
     ]
    }
   ],
   "source": [
    "# [project.scripts]\n",
    "# awesome-command = \"my_package:main\"\n",
    "print(\n",
    "    \"scripts:\",\n",
    "    parsed[\"project\"][\"scripts\"],\n",
    ")"
   ]
  },
  {
   "cell_type": "markdown",
   "metadata": {
    "tags": []
   },
   "source": [
    "```{=latex}\n",
    "\\end{frame}\n",
    "```"
   ]
  },
  {
   "cell_type": "markdown",
   "metadata": {
    "tags": []
   },
   "source": [
    "### Entrypoints"
   ]
  },
  {
   "cell_type": "code",
   "execution_count": 69,
   "metadata": {},
   "outputs": [],
   "source": [
    "minimal_pyproject = \"\"\"\\\n",
    "[build-system]\n",
    "requires = [\"setuptool\"]\n",
    "build-backend = \"setuptools.build_meta\"\n",
    "\n",
    "[project]\n",
    "name = \"orbipatch\"\n",
    "version = \"2022.3.6.2\"\n",
    "description = \"silly project named after a niche math thing\"\n",
    "readme = \"README.rst\"\n",
    "authors = [{name = \"MZ\", email = \"mz@devskillup.com\"}]\n",
    "\n",
    "[project.entry-points.\"paste.app_factory\"]\n",
    "main = \"my-package:main\"\n",
    "\"\"\"\n",
    "parsed = tomli.loads(minimal_pyproject)"
   ]
  },
  {
   "cell_type": "markdown",
   "metadata": {
    "tags": []
   },
   "source": [
    "```{=latex}\n",
    "\\begin{frame}[fragile]\n",
    "\\frametitle{Configuring entry points}\n",
    "\n",
    "```"
   ]
  },
  {
   "cell_type": "code",
   "execution_count": 71,
   "metadata": {},
   "outputs": [
    {
     "name": "stdout",
     "output_type": "stream",
     "text": [
      "entry points: {'paste.app_factory': {'main': 'my-package:main'}}\n"
     ]
    }
   ],
   "source": [
    "# [project.entry-points.\"paste.app_factory\"]\n",
    "# main = \"my-package:main\"\n",
    "print(\n",
    "    \"entry points:\",\n",
    "    parsed[\"project\"][\"entry-points\"],\n",
    ")"
   ]
  },
  {
   "cell_type": "markdown",
   "metadata": {
    "tags": []
   },
   "source": [
    "```{=latex}\n",
    "\\end{frame}\n",
    "```"
   ]
  },
  {
   "cell_type": "markdown",
   "metadata": {},
   "source": [
    "## Building with setuptools\n",
    "\n",
    "### Build system details\n",
    "\n",
    "### Using `python -m build`\n",
    "\n",
    "### Editable installs with setuptools\n",
    "\n",
    "### Dynamic fields\n",
    "\n",
    "### Example: Using `setuptools_scm`\n",
    "\n",
    "## Recap\n",
    "\n",
    "### pyproject.toml: source of truth\n",
    "\n",
    "### Important fields\n",
    "\n",
    "### setuptools support"
   ]
  },
  {
   "cell_type": "markdown",
   "metadata": {},
   "source": [
    "```{=latex}\n",
    "\\end{document}\n",
    "```"
   ]
  }
 ],
 "metadata": {
  "kernelspec": {
   "display_name": "pyproject-toml-talk",
   "language": "python",
   "name": "pyproject-toml-talk-venv"
  },
  "language_info": {
   "codemirror_mode": {
    "name": "ipython",
    "version": 3
   },
   "file_extension": ".py",
   "mimetype": "text/x-python",
   "name": "python",
   "nbconvert_exporter": "python",
   "pygments_lexer": "ipython3",
   "version": "3.10.7"
  },
  "toc-autonumbering": false
 },
 "nbformat": 4,
 "nbformat_minor": 4
}
